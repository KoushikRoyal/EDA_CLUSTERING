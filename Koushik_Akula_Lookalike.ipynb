{
 "cells": [
  {
   "cell_type": "code",
   "execution_count": 7,
   "id": "1f0b40ee-ab1b-4e6c-8dae-74ecf04f128b",
   "metadata": {},
   "outputs": [],
   "source": [
    "import pandas as pd\n",
    "from sklearn.metrics.pairwise import cosine_similarity\n",
    "from sklearn.preprocessing import MinMaxScaler"
   ]
  },
  {
   "cell_type": "code",
   "execution_count": 8,
   "id": "a99ed81e-d57d-4858-8c7a-e64bcd64d748",
   "metadata": {},
   "outputs": [],
   "source": [
    "customers = pd.read_csv(\"Customers.csv\")\n",
    "transactions = pd.read_csv(\"Transactions.csv\")\n",
    "products = pd.read_csv(\"Products.csv\")"
   ]
  },
  {
   "cell_type": "code",
   "execution_count": 9,
   "id": "c0ce781e-36df-42db-b33b-8cf41f3f1576",
   "metadata": {},
   "outputs": [],
   "source": [
    "transactions = transactions.merge(products, on=\"ProductID\", how=\"left\")"
   ]
  },
  {
   "cell_type": "code",
   "execution_count": 10,
   "id": "2fe8c0e2-3703-4de0-abb9-0140f604b3f1",
   "metadata": {},
   "outputs": [],
   "source": [
    "customer_transactions = (\n",
    "    transactions.groupby(\"CustomerID\")\n",
    "    .agg(\n",
    "        total_spent=(\"TotalValue\", \"sum\"),\n",
    "        avg_spent=(\"TotalValue\", \"mean\"),\n",
    "        total_quantity=(\"Quantity\", \"sum\"),\n",
    "        unique_products=(\"ProductID\", \"nunique\"),\n",
    "        most_frequent_category=(\"Category\", lambda x: x.mode()[0]),\n",
    "    )\n",
    "    .reset_index()\n",
    ")"
   ]
  },
  {
   "cell_type": "code",
   "execution_count": 11,
   "id": "6682b410-26dd-4e5c-8c27-b0d4026ccfd4",
   "metadata": {},
   "outputs": [],
   "source": [
    "customer_profiles = customers.merge(customer_transactions, on=\"CustomerID\", how=\"left\")"
   ]
  },
  {
   "cell_type": "code",
   "execution_count": 12,
   "id": "c18f6205-deeb-4d2b-a3b0-925a2f6ecd1d",
   "metadata": {},
   "outputs": [],
   "source": [
    "customer_profiles.fillna(\n",
    "    {\n",
    "        \"total_spent\": 0,\n",
    "        \"avg_spent\": 0,\n",
    "        \"total_quantity\": 0,\n",
    "        \"unique_products\": 0,\n",
    "        \"most_frequent_category\": \"None\",\n",
    "    },\n",
    "    inplace=True,\n",
    ")"
   ]
  },
  {
   "cell_type": "code",
   "execution_count": 13,
   "id": "8db1f293-028f-42ed-99e3-ae893780bb26",
   "metadata": {},
   "outputs": [],
   "source": [
    "customer_profiles_encoded = pd.get_dummies(\n",
    "    customer_profiles[[\"Region\", \"most_frequent_category\"]], drop_first=True\n",
    ")"
   ]
  },
  {
   "cell_type": "code",
   "execution_count": 14,
   "id": "716a52e2-d449-4183-b44b-48535183ca60",
   "metadata": {},
   "outputs": [],
   "source": [
    "features = pd.concat(\n",
    "    [\n",
    "        customer_profiles[[\"total_spent\", \"avg_spent\", \"total_quantity\", \"unique_products\"]],\n",
    "        customer_profiles_encoded,\n",
    "    ],\n",
    "    axis=1,\n",
    ")"
   ]
  },
  {
   "cell_type": "code",
   "execution_count": 15,
   "id": "110bc476-cacb-4dd7-b695-01d7926dccb4",
   "metadata": {},
   "outputs": [],
   "source": [
    "scaler = MinMaxScaler()\n",
    "features_scaled = scaler.fit_transform(features)"
   ]
  },
  {
   "cell_type": "code",
   "execution_count": 16,
   "id": "163f7893-5d03-4d01-91f0-d081e561b7ea",
   "metadata": {},
   "outputs": [],
   "source": [
    "similarity_matrix = cosine_similarity(features_scaled)"
   ]
  },
  {
   "cell_type": "code",
   "execution_count": 17,
   "id": "e32732b8-430f-42ae-b48a-b21074c66cf5",
   "metadata": {},
   "outputs": [],
   "source": [
    "lookalike_results = {}\n",
    "for i, customer_id in enumerate(customer_profiles[\"CustomerID\"]):\n",
    "    similarities = list(enumerate(similarity_matrix[i]))\n",
    "    similarities = sorted(similarities, key=lambda x: x[1], reverse=True)\n",
    "    top_3 = similarities[1:4]\n",
    "    lookalike_results[customer_id] = [\n",
    "        (customer_profiles.iloc[idx][\"CustomerID\"], score) for idx, score in top_3\n",
    "    ]"
   ]
  },
  {
   "cell_type": "code",
   "execution_count": 18,
   "id": "b6b5b7a5-d6c2-48c8-b96c-e1e6996e195f",
   "metadata": {},
   "outputs": [],
   "source": [
    "output_data = {\n",
    "    \"CustomerID\": [],\n",
    "    \"Lookalikes\": [],\n",
    "}\n",
    "for customer_id in customer_profiles[\"CustomerID\"][:20]:\n",
    "    lookalikes = lookalike_results[customer_id]\n",
    "    output_data[\"CustomerID\"].append(customer_id)\n",
    "    output_data[\"Lookalikes\"].append(lookalikes)"
   ]
  },
  {
   "cell_type": "code",
   "execution_count": 19,
   "id": "bdea4884-1655-4c9f-861f-8a0eb4ba93ae",
   "metadata": {},
   "outputs": [
    {
     "name": "stdout",
     "output_type": "stream",
     "text": [
      "Lookalike model completed successfully and saved as Lookalike.csv.\n"
     ]
    }
   ],
   "source": [
    "lookalike_df = pd.DataFrame(output_data)\n",
    "lookalike_df.to_csv(\"Koushik_Akula_Lookalike.csv\", index=False)\n",
    "print(\"Lookalike model completed successfully and saved as Lookalike.csv.\")"
   ]
  },
  {
   "cell_type": "code",
   "execution_count": null,
   "id": "0059a873-b6a0-4211-9f13-ad4a82d60ce2",
   "metadata": {},
   "outputs": [],
   "source": []
  }
 ],
 "metadata": {
  "kernelspec": {
   "display_name": "Python 3 (ipykernel)",
   "language": "python",
   "name": "python3"
  },
  "language_info": {
   "codemirror_mode": {
    "name": "ipython",
    "version": 3
   },
   "file_extension": ".py",
   "mimetype": "text/x-python",
   "name": "python",
   "nbconvert_exporter": "python",
   "pygments_lexer": "ipython3",
   "version": "3.9.11"
  }
 },
 "nbformat": 4,
 "nbformat_minor": 5
}
